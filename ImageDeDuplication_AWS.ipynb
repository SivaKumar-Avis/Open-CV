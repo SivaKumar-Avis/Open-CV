{
 "cells": [
  {
   "cell_type": "code",
   "execution_count": 1,
   "metadata": {},
   "outputs": [
    {
     "name": "stdout",
     "output_type": "stream",
     "text": [
      "Collecting opencv-python==3.4.2.16\n",
      "  Using cached https://files.pythonhosted.org/packages/fa/7d/5042b668a8ed41d2a80b8c172f5efcd572e3c046c75ae029407e19b7fc68/opencv_python-3.4.2.16-cp36-cp36m-manylinux1_x86_64.whl\n",
      "Requirement already satisfied: numpy>=1.11.3 in /home/ec2-user/anaconda3/envs/tensorflow_p36/lib/python3.6/site-packages (from opencv-python==3.4.2.16) (1.16.4)\n",
      "Installing collected packages: opencv-python\n",
      "  Found existing installation: opencv-python 3.4.2.17\n",
      "    Uninstalling opencv-python-3.4.2.17:\n",
      "      Successfully uninstalled opencv-python-3.4.2.17\n",
      "Successfully installed opencv-python-3.4.2.16\n",
      "\u001b[33mWARNING: You are using pip version 19.3.1; however, version 20.1 is available.\n",
      "You should consider upgrading via the 'pip install --upgrade pip' command.\u001b[0m\n",
      "Collecting opencv-contrib-python==3.4.2.16\n",
      "  Using cached https://files.pythonhosted.org/packages/08/f1/66330f4042c4fb3b2d77a159db8e8916d9cdecc29bc8c1f56bc7f8a9bec9/opencv_contrib_python-3.4.2.16-cp36-cp36m-manylinux1_x86_64.whl\n",
      "Requirement already satisfied: numpy>=1.11.3 in /home/ec2-user/anaconda3/envs/tensorflow_p36/lib/python3.6/site-packages (from opencv-contrib-python==3.4.2.16) (1.16.4)\n",
      "Installing collected packages: opencv-contrib-python\n",
      "Successfully installed opencv-contrib-python-3.4.2.16\n",
      "\u001b[33mWARNING: You are using pip version 19.3.1; however, version 20.1 is available.\n",
      "You should consider upgrading via the 'pip install --upgrade pip' command.\u001b[0m\n"
     ]
    }
   ],
   "source": [
    "!pip install opencv-python==3.4.2.16\n",
    "!pip install opencv-contrib-python==3.4.2.16\n",
    "\n",
    "#Use conda_aamzonei_mxnet_p36 Kernel - Otherwise we should pip install this"
   ]
  },
  {
   "cell_type": "code",
   "execution_count": 2,
   "metadata": {},
   "outputs": [],
   "source": [
    "import s3fs\n",
    "from PIL import Image\n",
    "import cv2\n",
    "\n",
    "from matplotlib import pyplot as plt\n",
    "%matplotlib inline\n",
    "\n",
    "import numpy as np\n",
    "import os"
   ]
  },
  {
   "cell_type": "code",
   "execution_count": 3,
   "metadata": {},
   "outputs": [],
   "source": [
    "# Create SIFT Object\n",
    "sift = cv2.xfeatures2d.SIFT_create()\n",
    "\n",
    "# FLANN parameters\n",
    "FLANN_INDEX_KDTREE = 0\n",
    "index_params = dict(algorithm = FLANN_INDEX_KDTREE, trees = 5)\n",
    "search_params = dict(checks=50)  \n",
    "\n",
    "flann = cv2.FlannBasedMatcher(index_params,search_params)"
   ]
  },
  {
   "cell_type": "code",
   "execution_count": 4,
   "metadata": {},
   "outputs": [
    {
     "name": "stdout",
     "output_type": "stream",
     "text": [
      "sagemaker-aiml-zsl/DeDuplication-Images/IMG-3254.jpg sagemaker-aiml-zsl/DeDuplication-Images/IMG-3254.jpg\n",
      "sagemaker-aiml-zsl/DeDuplication-Images/IMG-3254.jpg sagemaker-aiml-zsl/DeDuplication-Images/IMG-3255.jpg\n",
      "105133 18903\n",
      "Similarity: 17\n",
      "Images sagemaker-aiml-zsl/DeDuplication-Images/IMG-3254.jpg and sagemaker-aiml-zsl/DeDuplication-Images/IMG-3255.jpg are duplicates and we can delete sagemaker-aiml-zsl/DeDuplication-Images/IMG-3255.jpg\n",
      "\n",
      "sagemaker-aiml-zsl/DeDuplication-Images/IMG-3254.jpg sagemaker-aiml-zsl/DeDuplication-Images/IMG-3530.jpg\n",
      "105133 62\n",
      "Similarity: 0\n",
      "Images sagemaker-aiml-zsl/DeDuplication-Images/IMG-3254.jpg and sagemaker-aiml-zsl/DeDuplication-Images/IMG-3530.jpg are not duplicates\n",
      "\n",
      "sagemaker-aiml-zsl/DeDuplication-Images/IMG-3255.jpg sagemaker-aiml-zsl/DeDuplication-Images/IMG-3255.jpg\n",
      "sagemaker-aiml-zsl/DeDuplication-Images/IMG-3255.jpg sagemaker-aiml-zsl/DeDuplication-Images/IMG-3530.jpg\n",
      "91897 54\n",
      "Similarity: 0\n",
      "Images sagemaker-aiml-zsl/DeDuplication-Images/IMG-3255.jpg and sagemaker-aiml-zsl/DeDuplication-Images/IMG-3530.jpg are not duplicates\n",
      "\n",
      "sagemaker-aiml-zsl/DeDuplication-Images/IMG-3530.jpg sagemaker-aiml-zsl/DeDuplication-Images/IMG-3530.jpg\n"
     ]
    }
   ],
   "source": [
    "fs = s3fs.S3FileSystem()\n",
    "processed_combo=[]\n",
    "\n",
    "bucket_name='sagemaker-aiml-zsl/'\n",
    "folder_name='DeDuplication-Images/'\n",
    "\n",
    "for i in fs.ls('s3://'+bucket_name+folder_name):\n",
    "  #Set key name\n",
    "  i1_name=i\n",
    "  #Read from S3\n",
    "  f1=fs.open(f's3://'+i)\n",
    "  img1=Image.open(f1)\n",
    "  image1_data = np.asarray(img1)  \n",
    "    \n",
    "  kp1_temp, des1_temp = sift.detectAndCompute(image1_data,None)\n",
    "\n",
    "  for j in fs.ls('s3://sagemaker-aiml-zsl/DeDuplication-Images/'):\n",
    "     #Set key name\n",
    "     i2_name=j\n",
    "    \n",
    "     #Checks whether the combo is already processed, if yes it wont allow inside   \n",
    "     if (i1_name,i2_name) not in processed_combo:\n",
    "        #Read from S3\n",
    "        f2=fs.open(f's3://'+j)\n",
    "        img2=Image.open(f2)\n",
    "        image2_data = np.asarray(img2)\n",
    "\n",
    "        print(i1_name,i2_name)\n",
    "\n",
    "        if i != j:\n",
    "          kp2_temp, des2_temp = sift.detectAndCompute(image2_data,None)\n",
    "          #K nearest matches\n",
    "          matches_temp = flann.knnMatch(des1_temp,des2_temp,k=2)\n",
    "\n",
    "          good_temp = []\n",
    "          number_keypoints_temp = 0\n",
    "\n",
    "          # ratio test\n",
    "          for match1,match2 in matches_temp:\n",
    "            if match1.distance < 0.7*match2.distance:\n",
    "              good_temp.append([match1])\n",
    "\n",
    "          #Check features count - To delete based on that\n",
    "          if len(kp1_temp) >= len(kp2_temp):\n",
    "            number_keypoints_temp = len(kp1_temp)\n",
    "            del_img= i2_name\n",
    "          else:\n",
    "            number_keypoints_temp = len(kp2_temp)\n",
    "            del_img= i1_name\n",
    "          print(number_keypoints_temp,len(good_temp))\n",
    "\n",
    "          #Find sililarity percentage\n",
    "          percentage_similarity = len(good_temp) / number_keypoints_temp * 100\n",
    "          print(\"Similarity: \" + str(int(percentage_similarity)) )\n",
    "\n",
    "          #Deletion criteria\n",
    "          if int(percentage_similarity) > 3:\n",
    "            print('Images ' +i1_name+ ' and ' +i2_name+ ' are duplicates and we can delete '+del_img + \"\\n\" )\n",
    "          else:\n",
    "            print('Images ' +i1_name+ ' and ' +i2_name+ ' are not duplicates' + \"\\n\")\n",
    "\n",
    "          #Save the 2 images combo as tuple and add this to list\n",
    "          tup1=(i1_name,i2_name)\n",
    "          tup2=(i2_name,i1_name)\n",
    "          processed_combo.append(tup1)\n",
    "          processed_combo.append(tup2)\n",
    "      \n",
    "      "
   ]
  },
  {
   "cell_type": "code",
   "execution_count": null,
   "metadata": {},
   "outputs": [],
   "source": []
  }
 ],
 "metadata": {
  "kernelspec": {
   "display_name": "conda_tensorflow_p36",
   "language": "python",
   "name": "conda_tensorflow_p36"
  },
  "language_info": {
   "codemirror_mode": {
    "name": "ipython",
    "version": 3
   },
   "file_extension": ".py",
   "mimetype": "text/x-python",
   "name": "python",
   "nbconvert_exporter": "python",
   "pygments_lexer": "ipython3",
   "version": "3.6.6"
  }
 },
 "nbformat": 4,
 "nbformat_minor": 4
}
